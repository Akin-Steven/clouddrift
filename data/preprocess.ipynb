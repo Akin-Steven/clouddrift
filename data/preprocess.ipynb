{
 "cells": [
  {
   "cell_type": "markdown",
   "id": "0ffdb6fe-0952-472f-9443-9f5b29271e52",
   "metadata": {},
   "source": [
    "# Combine the 20000 netCDF files from the GDP hourly dataset into a data set"
   ]
  },
  {
   "cell_type": "code",
   "execution_count": 1,
   "id": "da045f99-84b3-4dcd-b17e-fb5868f63c59",
   "metadata": {},
   "outputs": [],
   "source": [
    "import netCDF4 as nc\n",
    "import xarray as xr\n",
    "import numpy as np\n",
    "import sys\n",
    "import matplotlib.pyplot as plt\n",
    "from pathlib import Path\n",
    "import dask\n",
    "import dask.bag as db\n",
    "from datetime import datetime\n",
    "import os \n",
    "\n",
    "# figure out where this warning comes from\n",
    "import warnings\n",
    "warnings.simplefilter(action='ignore', category=FutureWarning)"
   ]
  },
  {
   "cell_type": "code",
   "execution_count": 2,
   "id": "4236d647-54d4-4624-a5bf-589f1be7ea7f",
   "metadata": {},
   "outputs": [],
   "source": [
    "path_gdp = '/Users/pmiron/OneDrive - Florida State University/projects/clouddrift/data/raw'\n",
    "files = sorted(list(Path(path_gdp).rglob('*.nc')))"
   ]
  },
  {
   "cell_type": "markdown",
   "id": "7f471d13-ac8e-455e-a58f-b05380e76e8a",
   "metadata": {},
   "source": [
    "# Calculate the number of observations"
   ]
  },
  {
   "cell_type": "code",
   "execution_count": 3,
   "id": "e165879f-6497-4845-8989-ab7d6c8e7d1e",
   "metadata": {},
   "outputs": [],
   "source": [
    "def number_of_observations(file):\n",
    "    \"\"\"\n",
    "    Load a file and get the size of the observations.\n",
    "    \"\"\"\n",
    "    df = xr.open_dataset(file, decode_times=False)\n",
    "    return df.sizes['obs']"
   ]
  },
  {
   "cell_type": "code",
   "execution_count": 7,
   "id": "b7081ad9-f6f2-4c97-8c64-a573ada8e8f5",
   "metadata": {},
   "outputs": [
    {
     "name": "stdout",
     "output_type": "stream",
     "text": [
      "Already up-to-date.\n"
     ]
    }
   ],
   "source": [
    "file_traj_sz = 'process/count.csv'\n",
    "if not os.path.isfile(file_traj_sz) or (os.path.getmtime(path_gdp) > os.path.getmtime(file_traj_sz)): \n",
    "    # files were modified\n",
    "    print('Updating the count variable.')\n",
    "    count = []\n",
    "    for file in files:\n",
    "        count_i = dask.delayed(number_of_observations)(file)\n",
    "        count.append(count_i)  \n",
    "    count = dask.compute(*count)\n",
    "    \n",
    "    # save to file\n",
    "    count = np.array(count)\n",
    "    np.savetxt(file_traj_sz, count, fmt='%d')\n",
    "else: \n",
    "    # load if exists already and up to date\n",
    "    print('Already up-to-date.')\n",
    "    count = np.loadtxt(file_traj_sz, dtype='int')"
   ]
  },
  {
   "cell_type": "markdown",
   "id": "1bc0f0b3-e421-4ad4-8130-2296608d04e1",
   "metadata": {},
   "source": [
    "# Create data structures"
   ]
  },
  {
   "cell_type": "code",
   "execution_count": 5,
   "id": "6782595b-7c61-4f9e-9168-3c271ef34097",
   "metadata": {},
   "outputs": [],
   "source": [
    "nb_traj = len(count)\n",
    "nb_obs = np.sum(count)\n",
    "\n",
    "# scalar values\n",
    "id = np.zeros(nb_traj, dtype='uint32')\n",
    "wmo = np.zeros(nb_traj, dtype='uint32')\n",
    "expno = np.zeros(nb_traj, dtype='uint32')\n",
    "deploy_date = np.zeros(nb_traj, dtype='datetime64[ns]')\n",
    "deploy_lat = np.zeros(nb_traj, dtype='float32')\n",
    "deploy_lon = np.zeros(nb_traj, dtype='float32')\n",
    "end_date = np.zeros(nb_traj, dtype='datetime64[ns]')\n",
    "end_lon = np.zeros(nb_traj, dtype='float32')\n",
    "end_lat = np.zeros(nb_traj, dtype='float32')\n",
    "drogue_lost_date = np.zeros(nb_traj, dtype='datetime64[ns]')\n",
    "type_death = np.zeros(nb_traj, dtype='uint8')\n",
    "type_buoy = np.chararray(nb_traj, itemsize=10)\n",
    "\n",
    "# attributes converted to metadata/data\n",
    "'''\n",
    "location_type = np.zeros(nb_traj, dtype='bool') # 0 Argos, 1 GPS\n",
    "deployment_ship = \n",
    "deployment_status = \n",
    "buoy_type_manufacturer = \n",
    "buoy_type_sensor_array = \n",
    "current_program = np.zeros(nb_traj, dtype='uint32')\n",
    "purchaser_funding = \n",
    "sensor_upgrade\n",
    "transmissions \n",
    "deploying_country\n",
    "deployment_comments\n",
    "manufacture_year = np.zeros(nb_traj, dtype='uint16')\n",
    "manufacture_month = np.zeros(nb_traj, dtype='uint8')\n",
    "manufacture_voltage = np.zeros(nb_traj, dtype='uint16')\n",
    "\n",
    "\n",
    "\n",
    "subsfc_float_presence = \n",
    "drogue_detect_sensor = \n",
    "'''\n",
    "\n",
    "float_diameter = np.zeros(nb_traj, dtype='float32')\n",
    "drogue_type = np.zeros(nb_traj, dtype='uint16') \n",
    "drogue_length = np.zeros(nb_traj, dtype='float32')\n",
    "drogue_ballast = np.zeros(nb_traj, dtype='float32')\n",
    "drag_area_above_drogue = np.zeros(nb_traj, dtype='float32')\n",
    "drag_area_drogue = np.zeros(nb_traj, dtype='float32')\n",
    "drag_area_ratio = np.zeros(nb_traj, dtype='float32')\n",
    "drag_center_depth = np.zeros(nb_traj, dtype='float32')\n",
    "\n",
    "# vectors\n",
    "longitude = np.zeros(nb_obs, dtype='float32')\n",
    "latitude = np.zeros(nb_obs, dtype='float32')\n",
    "time = np.zeros(nb_obs, dtype='datetime64[ns]')\n",
    "ve = np.zeros(nb_obs, dtype='float32')\n",
    "vn = np.zeros(nb_obs, dtype='float32')\n",
    "err_lat = np.zeros(nb_obs, dtype='float32')\n",
    "err_lon = np.zeros(nb_obs, dtype='float32')\n",
    "err_ve = np.zeros(nb_obs, dtype='float32')\n",
    "err_vn = np.zeros(nb_obs, dtype='float32')\n",
    "gap = np.zeros(nb_obs, dtype='datetime64[ns]')"
   ]
  },
  {
   "cell_type": "code",
   "execution_count": 6,
   "id": "80c41466-d8f1-401e-8faa-12656531cd2e",
   "metadata": {},
   "outputs": [],
   "source": [
    "def str_to_float(value, default=np.nan):\n",
    "    try:\n",
    "        return float(value)\n",
    "    except ValueError:\n",
    "        return default\n",
    "\n",
    "def fill_ragged_array(file, tid, oid):\n",
    "    \"\"\"\n",
    "    Fill the ragged array from the xr.Dataset corresponding to one trajectory\n",
    "    \n",
    "    Input filename: path and filename of the netCDF file\n",
    "          tid: trajectory index\n",
    "          oid: observation index in the ragged array\n",
    "    \"\"\"\n",
    "    ds = xr.open_dataset(file)\n",
    "    size = ds.dims['obs']\n",
    "    \n",
    "    # scalar\n",
    "    id[tid] = ds.ID.data[0]\n",
    "    wmo[tid] = ds.WMO.data[0]\n",
    "    expno[tid] = ds.expno.data[0]\n",
    "    deploy_date[tid] = ds.deploy_date.data[0]\n",
    "    deploy_lon[tid] = ds.deploy_lon.data[0]\n",
    "    deploy_lat[tid] = ds.deploy_lat.data[0]\n",
    "    end_date[tid] = ds.end_date.data[0]\n",
    "    end_lon[tid] = ds.end_lon.data[0]\n",
    "    end_lat[tid] = ds.end_lat.data[0]\n",
    "    drogue_lost_date[tid] = ds.drogue_lost_date.data[0]\n",
    "    type_death[tid] = ds.typedeath.data[0]\n",
    "    type_buoy[tid] = ds.typebuoy.data[0]\n",
    "    \n",
    "    # those values were store in the attributes\n",
    "    float_diameter[tid] = str_to_float(ds.attrs['FloatDiameter'][:-3])\n",
    "    drogue_length[tid] = str_to_float(ds.attrs['DrogueLength'][:-2])\n",
    "    drogue_ballast[tid] = str_to_float(ds.attrs['DrogueBallast'][:-3])\n",
    "    drag_area_above_drogue[tid] = str_to_float(ds.attrs['DragAreaAboveDrogue'][:-4])\n",
    "    drag_area_drogue[tid] = str_to_float(ds.attrs['DragAreaOfDrogue'][:-4])\n",
    "    drag_area_ratio[tid] = str_to_float(ds.attrs['DragAreaRatio'])\n",
    "    drag_center_depth[tid] = str_to_float(ds.attrs['DrogueCenterDepth'][:-2])\n",
    "    \n",
    "    # vectors\n",
    "    longitude[oid:oid+size] = ds.longitude.data[0]\n",
    "    latitude[oid:oid+size] = ds.latitude.data[0]\n",
    "    time[oid:oid+size] = ds.time.data[0]\n",
    "    ve[oid:oid+size] = ds.ve.data[0]\n",
    "    vn[oid:oid+size] = ds.vn.data[0]\n",
    "    err_lat[oid:oid+size] = ds.err_lat.data[0]\n",
    "    err_lon[oid:oid+size] = ds.err_lon.data[0]\n",
    "    err_ve[oid:oid+size] = ds.err_ve.data[0]\n",
    "    err_vn[oid:oid+size] = ds.err_vn.data[0]\n",
    "    gap[oid:oid+size] = ds.gap.data[0]"
   ]
  },
  {
   "cell_type": "code",
   "execution_count": 7,
   "id": "9ad0ac4e-3924-4c9f-aa0a-6d253bac9560",
   "metadata": {},
   "outputs": [],
   "source": [
    "# create the index for each trajectory in the continuous ragged array reprensentation\n",
    "index_traj = np.cumsum(count)\n",
    "index_traj = np.insert(index_traj, 0, 0)\n",
    "\n",
    "# create a repeated ids[obs] maybe this is remove later\n",
    "ids = np.zeros(nb_obs, dtype='uint32')\n",
    "for i in range(0, nb_traj):\n",
    "    r = range(index_traj[i], index_traj[i + 1])\n",
    "    ids[r] = i"
   ]
  },
  {
   "cell_type": "code",
   "execution_count": 8,
   "id": "973e86a6-73f3-4c9a-99af-caddc14c1d44",
   "metadata": {},
   "outputs": [
    {
     "name": "stdout",
     "output_type": "stream",
     "text": [
      "CPU times: user 3min 23s, sys: 11.9 s, total: 3min 35s\n",
      "Wall time: 4min 2s\n"
     ]
    }
   ],
   "source": [
    "%%time\n",
    "for i, filename in enumerate(files):\n",
    "    if i not in [12503, 12504, 12743]:\n",
    "        fill_ragged_array(filename, i, index_traj[i])"
   ]
  },
  {
   "cell_type": "code",
   "execution_count": 11,
   "id": "9b9da6dc-4cd9-41ac-85a5-77edad92ac54",
   "metadata": {},
   "outputs": [],
   "source": [
    "# create the xarray Dataset\n",
    "ds = xr.Dataset(\n",
    "    data_vars=dict(\n",
    "        id=(['traj'], id, {\"long_name\": \"Global Drifter Program Buoy ID\", \"units\":\"\"}), \n",
    "        count=(['traj'], count, {\"long_name\": \"Number of observations for each trajectory\", \"units\":\"\"}),\n",
    "        wmo=(['traj'], wmo, {\"long_name\": \"    World Meteorological Organization buoy identification number\", \"units\":\"\"}),\n",
    "        expno=(['traj'], expno, {\"long_name\": \"Experiment number\", \"units\":\"\"}),\n",
    "        deploy_date=(['traj'], deploy_date, {\"long_name\": \"Deployment date and time\"}),#, \"units\":\"seconds since 1970-01-01 00:00:00 UTC\"}),\n",
    "        deploy_lon=(['traj'], deploy_lon, {\"long_name\": \"Deployment longitude\", \"units\":\"degrees_east\"}),\n",
    "        deploy_lat=(['traj'], deploy_lat, {\"long_name\": \"Deployment latitude\", \"units\":\"degrees_north\"}),\n",
    "        end_date=(['traj'], end_date, {\"long_name\": \"End date and time\"}),#, \"units\":\"seconds since 1970-01-01 00:00:00 UTC\"}),\n",
    "        end_lat=(['traj'], end_lat, {\"long_name\": \"End latitude\", \"units\":\"degrees_north\"}),\n",
    "        end_lon=(['traj'], end_lon, {\"long_name\": \"End longitude\", \"units\":\"degrees_east\"}),\n",
    "        drogue_lost_date=(['traj'], drogue_lost_date, {\"long_name\": \"Date and time of drogue loss\"}),#, \"units\":\"seconds since 1970-01-01 00:00:00 UTC\"}),\n",
    "        type_death=(['traj'], type_death, {\"long_name\": \"Type of death (0=buoy still alive, 1=buoy ran aground, 2=picked up by vessel, 3=stop transmitting, 4=sporadic transmissions, 5=bad batteries, 6=inactive status)\", \"units\":\"\"}),\n",
    "        type_buoy=(['traj'], type_buoy, {\"long_name\": \"Buoy type (see https://www.aoml.noaa.gov/phod/dac/dirall.html)\", \"units\":\"\"}),\n",
    "        float_diameter=(['traj'], float_diameter, {\"long_name\": \"Diameter of surface floater.\", \"units\":\"cm\"}),\n",
    "        drogue_length=(['traj'], drogue_length, {\"long_name\": \"Length of drogue.\", \"units\":\"m\"}),\n",
    "        drogue_ballast=(['traj'], drogue_ballast, {\"long_name\": \"Weight of the drogue's ballast.\", \"units\":\"kg\"}),\n",
    "        drag_area_above_drogue=(['traj'], drag_area_above_drogue, {\"long_name\": \"Drag area above drogue.\", \"units\":\"m^2\"}),\n",
    "        drag_area_drogue=(['traj'], drag_area_drogue, {\"long_name\": \"Drag area drogue.\", \"units\":\"m^2\"}),\n",
    "        drag_area_ratio=(['traj'], drag_area_ratio, {\"long_name\": \"Drag area ratio\", \"units\":\"m\"}),\n",
    "        drag_center_depth=(['traj'], drag_center_depth, {\"long_name\": \"Average depth of the drogue.\", \"units\":\"m\"}),\n",
    "        \n",
    "        # if it's efficient to binned cut the Dataset maybe this is not needed\n",
    "        ve=(['obs'], ve, {\"long_name\": \"Eastward velocity\", \"units\":\"m/s\"}),\n",
    "        vn=(['obs'], vn, {\"long_name\": \"Northward velocity\", \"units\":\"m/s\"}),\n",
    "        err_lat=(['obs'], err_lat, {\"long_name\": \"Standard error in latitude\", \"units\":\"degrees_north\"}),\n",
    "        err_lon=(['obs'], err_lon, {\"long_name\": \"Standard error in longitude\", \"units\":\"degrees_east\"}),\n",
    "        err_ve=(['obs'], err_ve, {\"long_name\": \"Standard error in eastward velocity\", \"units\":\"m/s\"}),\n",
    "        err_vn=(['obs'], err_vn, {\"long_name\": \"Standard error in northward velocity\", \"units\":\"m/s\"}),\n",
    "        \n",
    "        # convert gap to nanoseconds from nanoseconds from 1970-01-01\n",
    "        gap=(['obs'], (gap-np.datetime64('1970-01-01')), {\"long_name\": \"time interval between previous and next location\"}),#, \"units\":\"nanoseconds\"}),\n",
    "    ),\n",
    "\n",
    "    coords=dict(\n",
    "        longitude=(['obs'], longitude, {\"long_name\": \"Longitude\", \"units\":\"degrees_east\"}),\n",
    "        latitude=(['obs'], latitude, {\"long_name\": \"Latitude\", \"units\":\"degrees_north\"}),\n",
    "        time=(['obs'], time, {\"long_name\": \"Time\"}),#, \"units\":\"seconds since 1970-01-01 00:00:00 UTC\"}),\n",
    "        ids=(['obs'], ids, {\"long_name\": \"Trajectory index of vars['traj'] for all observations\", \"units\":\"\"}),\n",
    "    ),\n",
    "\n",
    "    attrs={\n",
    "        'title': 'Global Drifter Program hourly drifting buoy collection',\n",
    "        'id': 'Global Drifter Program ID 13555',\n",
    "        'history': 'Version 1.04.  Metadata from dirall.dat and deplog.dat',\n",
    "        'Conventions': 'CF-1.6',\n",
    "        'date_created': datetime.now().isoformat(),\n",
    "        'publisher_name': 'GDP Drifter DAC',\n",
    "        'publisher_email': 'aoml.dftr@noaa.gov',\n",
    "        'publisher_url': 'https://www.aoml.noaa.gov/phod/gdp',\n",
    "        'licence': 'MIT License',\n",
    "        'processing_level': 'Level 2 QC by GDP drifter DAC',\n",
    "        'metadata_link': 'https://www.aoml.noaa.gov/phod/dac/dirall.html',\n",
    "        'contributor_name': 'NOAA Global Drifter Program',\n",
    "        'contributor_role': 'Data Acquisition Center',\n",
    "        'institution': 'NOAA Atlantic Oceanographic and Meteorological Laboratory',\n",
    "        'acknowledgement': 'Elipot et al. (2016). Global Drifter Program quality-controlled hourly interpolated data from ocean surface drifting buoys, version 1.04. NOAA National Centers for Environmental Information. https://agupubs.onlinelibrary.wiley.com/doi/full/10.1002/2016JC011716TBA. Accessed [date].',\n",
    "        'doi': '10.1002/2016JC011716TBA',\n",
    "        'summary': 'Global Drifter Program hourly data'\n",
    "    }\n",
    ")\n",
    "\n",
    "ds.deploy_date.encoding['units'] = \"seconds since 1970-01-01 00:00:00\"\n",
    "ds.end_date.encoding['units'] = \"seconds since 1970-01-01 00:00:00\"\n",
    "ds.drogue_lost_date.encoding['units'] = \"seconds since 1970-01-01 00:00:00\"\n",
    "ds.time.encoding['units'] = \"seconds since 1970-01-01 00:00:00\"\n",
    "ds.gap.encoding['units'] = \"nanoseconds\""
   ]
  },
  {
   "cell_type": "code",
   "execution_count": 10,
   "id": "3bf36fa7-90e1-4107-a145-acb6e2531f9f",
   "metadata": {},
   "outputs": [
    {
     "data": {
      "text/plain": [
       "<xarray.backends.zarr.ZarrStore at 0x112e22880>"
      ]
     },
     "execution_count": 10,
     "metadata": {},
     "output_type": "execute_result"
    }
   ],
   "source": [
    "# save to one giant netcdf\n",
    "ds.to_netcdf()\n",
    "\n",
    "# and to zarr\n",
    "ds.to_zarr('../data/process/gdp_1.04c', consolidated=True)"
   ]
  }
 ],
 "metadata": {
  "kernelspec": {
   "display_name": "Python 3 (ipykernel)",
   "language": "python",
   "name": "python3"
  },
  "language_info": {
   "codemirror_mode": {
    "name": "ipython",
    "version": 3
   },
   "file_extension": ".py",
   "mimetype": "text/x-python",
   "name": "python",
   "nbconvert_exporter": "python",
   "pygments_lexer": "ipython3",
   "version": "3.9.7"
  }
 },
 "nbformat": 4,
 "nbformat_minor": 5
}
