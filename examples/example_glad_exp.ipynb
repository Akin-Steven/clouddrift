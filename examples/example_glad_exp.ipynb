{
 "cells": [
  {
   "cell_type": "markdown",
   "id": "83aa07d5-dc07-42dd-a00b-1a29d56ce443",
   "metadata": {},
   "source": [
    "# How to convert typical Lagrangian datasets to a ragged array to use the CloudDrift toolbox?\n",
    "\n",
    "- GLAD experiment CODE-style drifter trajectories (low-pass filtered, 15 minute interval records), northern Gulf of Mexico near DeSoto Canyon, July-October 2012\n",
    "https://data.gulfresearchinitiative.org/data/R1.x134.073:0004"
   ]
  },
  {
   "cell_type": "code",
   "execution_count": null,
   "id": "d1d90edb-843f-40de-b233-cc40af58feac",
   "metadata": {},
   "outputs": [],
   "source": [
    "import pandas as pd\n",
    "import xarray as xr\n",
    "import os\n",
    "import urllib.request"
   ]
  },
  {
   "cell_type": "code",
   "execution_count": null,
   "id": "1ede3b46-d3bf-49c4-85ff-bc7257083538",
   "metadata": {},
   "outputs": [],
   "source": [
    "# download the data\n",
    "file_glad = 'GLAD_15min_filtered.dat'\n",
    "if not os.path.isfile(file_glad):\n",
    "    url = 'https://data.gulfresearchinitiative.org/pelagos-symfony/api/file/download/169841'\n",
    "    req = urllib.request.urlretrieve(url, file_glad)\n",
    "else:\n",
    "    pass   "
   ]
  },
  {
   "cell_type": "code",
   "execution_count": null,
   "id": "8b6dd6b8-c62d-4779-9246-383181632e85",
   "metadata": {},
   "outputs": [],
   "source": [
    "df = pd.read_csv(file_glad, delimiter='\\s+', header=5, \n",
    "                 names=['id', 'date', 'time', 'lat', 'lon', 'err_pos', 've', 'vn', 'err_vel'])\n",
    "\n",
    "df.insert(0, 'datetime', pd.to_datetime(df['date'] + \" \" + df['time']))\n",
    "df = df.drop(labels=['date', 'time'], axis=1)\n",
    "df.id = pd.to_numeric(df.id.str.slice(start=-3))\n",
    "df = df.set_index('id')"
   ]
  },
  {
   "cell_type": "code",
   "execution_count": null,
   "id": "a98ff14a-610e-4a76-9c8d-02ce483e1a55",
   "metadata": {},
   "outputs": [],
   "source": [
    "df"
   ]
  },
  {
   "cell_type": "markdown",
   "id": "ca998c0e-47a5-42b1-8f2d-c43e5689ca4e",
   "metadata": {},
   "source": [
    "# Create the ragged array using xarray.Datasets()"
   ]
  },
  {
   "cell_type": "code",
   "execution_count": null,
   "id": "142fe04e-2912-4f15-b9e3-424ef1fd6345",
   "metadata": {},
   "outputs": [],
   "source": [
    "c = df.index.value_counts(sort=False)\n",
    "unique_id, rowsize = c.index, c.values\n",
    "\n",
    "ds = xr.Dataset(\n",
    "    data_vars=dict(\n",
    "        rowsize=(['traj'], rowsize, {'long_name': 'Number of observations per trajectory', 'units':'-'}),\n",
    "        err_pos=(['obs'], df.err_pos, {'long_name': 'estimated position error', 'units':'m'}),\n",
    "        ve=(['obs'], df.ve, {'long_name': 'Eastward velocity', 'units':'m/s'}),\n",
    "        vn=(['obs'], df.vn, {'long_name': 'Northward velocity', 'units':'m/s'}),\n",
    "        err_vel=(['obs'], df.err_vel, {'long_name': 'Standard error in latitude', 'units':'degrees_north'}),    \n",
    "    ),\n",
    "\n",
    "    coords=dict(\n",
    "        ID=(['traj'], unique_id, {'long_name': 'Buoy ID', 'units':'-'}),\n",
    "        longitude=(['obs'], df.lon, {'long_name': 'Longitude', 'units':'degrees_east'}),\n",
    "        latitude=(['obs'], df.lat, {'long_name': 'Latitude', 'units':'degrees_north'}),\n",
    "        time=(['obs'], df.datetime, {'long_name': 'Time'}),\n",
    "        ids=(['obs'], df.index, {'long_name': \"Buoy ID for all observations\", 'units':'-'}),\n",
    "    ),\n",
    "\n",
    "    attrs={\n",
    "        'title': 'Example of ragged array creation for a typical Lagrangian data set',\n",
    "    }\n",
    ")"
   ]
  },
  {
   "cell_type": "code",
   "execution_count": null,
   "id": "4f11700f-af59-40e1-80e0-2c4cb8240d82",
   "metadata": {},
   "outputs": [],
   "source": [
    "ds"
   ]
  },
  {
   "cell_type": "code",
   "execution_count": null,
   "id": "ebd2f24c-9615-4cf1-9c94-1394872455ea",
   "metadata": {},
   "outputs": [],
   "source": []
  }
 ],
 "metadata": {
  "kernelspec": {
   "display_name": "clouddrift",
   "language": "python",
   "name": "clouddrift"
  },
  "language_info": {
   "codemirror_mode": {
    "name": "ipython",
    "version": 3
   },
   "file_extension": ".py",
   "mimetype": "text/x-python",
   "name": "python",
   "nbconvert_exporter": "python",
   "pygments_lexer": "ipython3",
   "version": "3.10.2"
  }
 },
 "nbformat": 4,
 "nbformat_minor": 5
}
